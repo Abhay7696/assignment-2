{
 "cells": [
  {
   "cell_type": "code",
   "execution_count": null,
   "id": "c8d9df8c-baee-4f81-98e7-3af2f6be34f4",
   "metadata": {},
   "outputs": [],
   "source": [
    " write a program to accept percentage from the user and display the grade according to the following criteria:\n",
    "        Marks         Grade\n",
    "         >90            A\n",
    "        >80 and <=90    B\n",
    "        >=60 and <=80   C\n",
    "        below 60        D"
   ]
  },
  {
   "cell_type": "code",
   "execution_count": 28,
   "id": "a1343094-2419-4bdd-bb48-176b4011ae0c",
   "metadata": {},
   "outputs": [
    {
     "name": "stdin",
     "output_type": "stream",
     "text": [
      "Enter your marks: 70\n"
     ]
    },
    {
     "name": "stdout",
     "output_type": "stream",
     "text": [
      "Grade: B+\n"
     ]
    }
   ],
   "source": [
    "## code is not running without adding marks 70%.\n",
    "\n",
    "\n",
    "marks = float(input(\"Enter your marks:\"))\n",
    "\n",
    "if marks > 90:\n",
    "    print(\"Grade: A\")\n",
    "elif marks >=80 and marks <90:\n",
    "    print(\"Grade: B\")\n",
    "elif marks >=70 and marks <80:\n",
    "    print(\"Grade: B+\")\n",
    "elif marks >=60 and marks <80:\n",
    "    print(\"Grade: C\")\n",
    "else:\n",
    "    print(\"Grade: D\")\n",
    "    "
   ]
  },
  {
   "cell_type": "code",
   "execution_count": null,
   "id": "c95f1238-b718-4a51-9e78-0faae1622586",
   "metadata": {},
   "outputs": [],
   "source": [
    "2. Write a program to accept the cost price of a bike and display the road tax to be paid according to the following ceiteria:\n",
    "    \n",
    "    Tax         Cost price\n",
    "    15%          >100000\n",
    "    10%          >50000 and <= 100000\n",
    "    5%           <= 50000"
   ]
  },
  {
   "cell_type": "code",
   "execution_count": 49,
   "id": "ad03e54d-3847-4f4c-b359-a64a5106519a",
   "metadata": {},
   "outputs": [
    {
     "name": "stdin",
     "output_type": "stream",
     "text": [
      "cost price of bike: 100000\n"
     ]
    },
    {
     "name": "stdout",
     "output_type": "stream",
     "text": [
      "10000.0 is the road tax to be paid \n"
     ]
    }
   ],
   "source": [
    "cp = float(input(\"cost price of bike:\"))\n",
    "\n",
    "if  cp > 100000:\n",
    "     t = 0.15\n",
    "elif cp >50000 and  cp <= 100000:\n",
    "      t = 0.10\n",
    "elif cp <= 50000:\n",
    "      t = 0.05 \n",
    "\n",
    "rt = cp * t\n",
    "print( rt , \"is the road tax to be paid \")\n",
    "\n"
   ]
  },
  {
   "cell_type": "code",
   "execution_count": 58,
   "id": "22bc5bb6-de8a-4f34-a9a2-12a6135c3c14",
   "metadata": {},
   "outputs": [
    {
     "ename": "SyntaxError",
     "evalue": "invalid syntax (432283760.py, line 1)",
     "output_type": "error",
     "traceback": [
      "\u001b[0;36m  Cell \u001b[0;32mIn[58], line 1\u001b[0;36m\u001b[0m\n\u001b[0;31m    3. Accept any city from the user and display monuments of that city.\u001b[0m\n\u001b[0m       ^\u001b[0m\n\u001b[0;31mSyntaxError\u001b[0m\u001b[0;31m:\u001b[0m invalid syntax\n"
     ]
    }
   ],
   "source": [
    "3. Accept any city from the user and display monuments of that city.\n",
    "       city     monuments\n",
    "       Delhi     Red Fort\n",
    "        Agra     Taj Mahal\n",
    "        Jaipur   Jal Mahal"
   ]
  },
  {
   "cell_type": "code",
   "execution_count": 66,
   "id": "bd4d0457-e9a3-4883-a81f-acbf245f7b45",
   "metadata": {},
   "outputs": [
    {
     "name": "stdin",
     "output_type": "stream",
     "text": [
      " Enter a city Delhi\n"
     ]
    },
    {
     "name": "stdout",
     "output_type": "stream",
     "text": [
      "Red Fort\n"
     ]
    }
   ],
   "source": [
    "city = input(\" Enter a city\")\n",
    "if city == \"Delhi\":\n",
    "    print(\"Red Fort\")\n",
    "elif city == \"Agra\":\n",
    "    print(\"Taj Mahal\")\n",
    "elif city == \"Jaipur\":\n",
    "     print(\"Jal Mahal\")\n",
    "else:\n",
    "    print(\"enter the correct city\")\n",
    "    \n",
    "    "
   ]
  },
  {
   "cell_type": "code",
   "execution_count": null,
   "id": "16fe4dce-eebb-460a-826d-5f1e081e6385",
   "metadata": {},
   "outputs": [],
   "source": [
    "4. Check how many times a given number can be divided by 3 before it is less than or equal to 10."
   ]
  },
  {
   "cell_type": "code",
   "execution_count": 76,
   "id": "366af24a-af61-460b-b93a-e15a752ad0c3",
   "metadata": {},
   "outputs": [
    {
     "name": "stdout",
     "output_type": "stream",
     "text": [
      "0 3 6 9 "
     ]
    }
   ],
   "source": [
    "n = 10\n",
    "for i in range(0,10):\n",
    "    if i%3==0:\n",
    "        print(i, end=\" \")"
   ]
  },
  {
   "cell_type": "code",
   "execution_count": null,
   "id": "885ab723-2d42-454a-b192-800898697c0b",
   "metadata": {},
   "outputs": [],
   "source": [
    "5. Why and when to use while loop in python  give a detailed description with examples."
   ]
  },
  {
   "cell_type": "code",
   "execution_count": 2,
   "id": "0d8f65d4-60fd-461f-a7ca-bcaaa390232b",
   "metadata": {},
   "outputs": [
    {
     "name": "stdout",
     "output_type": "stream",
     "text": [
      "1\n",
      "2\n",
      "3\n",
      "4\n",
      "5\n"
     ]
    }
   ],
   "source": [
    "Ans: Python while loop is used to run a block code until a certain condition is met. Here, A while loop evaluates the condition.\n",
    "If the condition evaluates to True , the code inside the while loop is executed.\n",
    "\n",
    "\n",
    "\n",
    "\n",
    "\n",
    "i = 1\n",
    "n = 5\n",
    "while i<= n:\n",
    "    print(i)\n",
    "    i = i+1"
   ]
  },
  {
   "cell_type": "code",
   "execution_count": null,
   "id": "58ac0d34-863c-44b2-bbff-5ce07eb49683",
   "metadata": {},
   "outputs": [],
   "source": [
    "6. use nested while loop to print 3 different pattern."
   ]
  },
  {
   "cell_type": "code",
   "execution_count": 4,
   "id": "684fdcb1-6331-49d4-867e-daaf93ed5ddd",
   "metadata": {},
   "outputs": [
    {
     "name": "stdout",
     "output_type": "stream",
     "text": [
      "1 \n",
      "1 2 \n",
      "1 2 3 \n",
      "1 2 3 4 \n",
      "1 2 3 4 5 \n"
     ]
    }
   ],
   "source": [
    "i=1\n",
    "while i<=5:\n",
    "    j=1\n",
    "    while j<=i:\n",
    "        print(j,end=\" \")\n",
    "        j=j+1\n",
    "    print(\"\")\n",
    "    i=i+1\n"
   ]
  },
  {
   "cell_type": "code",
   "execution_count": null,
   "id": "5d772c3b-9f55-4787-ba48-c6924df388b8",
   "metadata": {},
   "outputs": [],
   "source": [
    "7. Reverse a while loop to display numbers from 10 to 1."
   ]
  },
  {
   "cell_type": "code",
   "execution_count": 5,
   "id": "c22536bb-e7a1-43a2-a0b5-029549ef8691",
   "metadata": {},
   "outputs": [
    {
     "name": "stdout",
     "output_type": "stream",
     "text": [
      "10\n",
      "9\n",
      "8\n",
      "7\n",
      "6\n",
      "5\n",
      "4\n",
      "3\n",
      "2\n",
      "1\n"
     ]
    }
   ],
   "source": [
    "i = 10\n",
    "while i > 0:\n",
    "    print(i)\n",
    "    i = i - 1"
   ]
  },
  {
   "cell_type": "code",
   "execution_count": null,
   "id": "dc1d3c94-be4b-4494-b443-5f4762929d59",
   "metadata": {},
   "outputs": [],
   "source": [
    "8. Reverse a while loop to display numbers from 20 to 1. "
   ]
  },
  {
   "cell_type": "code",
   "execution_count": 8,
   "id": "56dd6f00-5488-4122-b46b-44e3b46353d3",
   "metadata": {},
   "outputs": [
    {
     "ename": "IndentationError",
     "evalue": "unexpected indent (1261486258.py, line 2)",
     "output_type": "error",
     "traceback": [
      "\u001b[0;36m  Cell \u001b[0;32mIn[8], line 2\u001b[0;36m\u001b[0m\n\u001b[0;31m    while i>0:\u001b[0m\n\u001b[0m    ^\u001b[0m\n\u001b[0;31mIndentationError\u001b[0m\u001b[0;31m:\u001b[0m unexpected indent\n"
     ]
    }
   ],
   "source": [
    "i = 20\n",
    " while i> 0:\n",
    "    print(i)\n",
    "i = i - 1\n"
   ]
  },
  {
   "cell_type": "code",
   "execution_count": null,
   "id": "0ba26c2d-e7af-43bc-9271-01c9770e3eb8",
   "metadata": {},
   "outputs": [],
   "source": []
  },
  {
   "cell_type": "code",
   "execution_count": null,
   "id": "0f4b0edf-bf3e-4aae-985e-a0f0f8911cd7",
   "metadata": {},
   "outputs": [],
   "source": []
  },
  {
   "cell_type": "code",
   "execution_count": null,
   "id": "a922ed92-ddfe-4bcc-88e8-abe0893cabaa",
   "metadata": {},
   "outputs": [],
   "source": []
  }
 ],
 "metadata": {
  "kernelspec": {
   "display_name": "Python 3 (ipykernel)",
   "language": "python",
   "name": "python3"
  },
  "language_info": {
   "codemirror_mode": {
    "name": "ipython",
    "version": 3
   },
   "file_extension": ".py",
   "mimetype": "text/x-python",
   "name": "python",
   "nbconvert_exporter": "python",
   "pygments_lexer": "ipython3",
   "version": "3.10.8"
  }
 },
 "nbformat": 4,
 "nbformat_minor": 5
}
